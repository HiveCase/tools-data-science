{
  "nbformat": 4,
  "nbformat_minor": 0,
  "metadata": {
    "colab": {
      "provenance": [],
      "include_colab_link": true
    },
    "kernelspec": {
      "name": "python3",
      "display_name": "Python 3"
    },
    "language_info": {
      "name": "python"
    }
  },
  "cells": [
    {
      "cell_type": "markdown",
      "metadata": {
        "id": "view-in-github",
        "colab_type": "text"
      },
      "source": [
        "<a href=\"https://colab.research.google.com/github/HiveCase/tools-data-science/blob/main/TDS_ROE_HELP.ipynb\" target=\"_parent\"><img src=\"https://colab.research.google.com/assets/colab-badge.svg\" alt=\"Open In Colab\"/></a>"
      ]
    },
    {
      "cell_type": "markdown",
      "source": [
        "Compiled by Veer Shah https://www.linkedin.com/in/veershah1008/\n"
      ],
      "metadata": {
        "id": "RrbAp8aEszCN"
      }
    },
    {
      "cell_type": "markdown",
      "source": [
        "TDS HELP\n",
        "GA:\n",
        "W5\n",
        "https://colab.research.google.com/drive/1bD4hM7wJ9aqCbvnqicb9xRES9msA4zko?usp=sharing\n",
        "\n",
        "\n",
        "W3\n",
        " https://colab.research.google.com/drive/1T5UIYAy7WTf6KlchtjXB2H6MayMr5pep?usp=sharing\n",
        "\n",
        "W2\n",
        " https://colab.research.google.com/drive/1bq0uY6Ju7AbYFPFAr2CTf4Hd7wLGSCGJ?usp=sharing\n",
        "\n",
        "W1\n",
        " https://colab.research.google.com/drive/1ZctY3P-7k7q5-PO6DBKnU8V3BAjpRLFU?usp=sharing\n",
        "\n",
        "Wk 4\n",
        "  https://colab.research.google.com/drive/1k2sJfvErHg86dU1RI7OvdvQ5ucu7BjbV?usp=sharing\n",
        "  \n",
        "  Mock ROE 2 https://colab.research.google.com/drive/1EzZ5ajh-UUvfAckO4lw7U5TSBeFkolsi?usp=sharing\n",
        "  "
      ],
      "metadata": {
        "id": "JN3LnFEbfKwI"
      }
    },
    {
      "cell_type": "markdown",
      "source": [],
      "metadata": {
        "id": "qDakmsTtf6pE"
      }
    },
    {
      "cell_type": "code",
      "source": [],
      "metadata": {
        "id": "qCBPvRhkfMAs"
      },
      "execution_count": null,
      "outputs": []
    },
    {
      "cell_type": "markdown",
      "source": [
        "TDS Drive https://drive.google.com/drive/folders/1FE0YPAxcxMzZdjnp3FopuJCI3A2Vq6fC"
      ],
      "metadata": {
        "id": "YjRvdhpYfbyy"
      }
    },
    {
      "cell_type": "code",
      "source": [
        "# Replace python with uv. This automatically installs Python and dependencies.\n",
        "uv run script.py\n",
        "\n",
        "# Run a Python script directly from the Internet\n",
        "uv run https://example.com/script.py\n",
        "\n",
        "# Run a Python script without installing\n",
        "uvx ruff\n",
        "\n",
        "# Use a specific Python version\n",
        "uv run --python 3.11 script.py\n",
        "\n",
        "# Add dependencies to your script\n",
        "uv add httpx --script script.py\n",
        "\n",
        "# Create a virtual environment at .venv\n",
        "uv venv\n",
        "\n",
        "# Install packages to your virtual environment\n",
        "uv pip install httpx\n"
      ],
      "metadata": {
        "id": "Emv4V12Tf4HU"
      },
      "execution_count": null,
      "outputs": []
    },
    {
      "cell_type": "code",
      "source": [
        "# /// script\n",
        "# requires-python = \">=3.11\"\n",
        "# dependencies = [\n",
        "#   \"httpx\",\n",
        "#   \"pandas\",\n",
        "# ]\n",
        "# ///\n"
      ],
      "metadata": {
        "id": "qUksY1dNgCko"
      },
      "execution_count": null,
      "outputs": []
    },
    {
      "cell_type": "code",
      "source": [
        "# Run a package without installing\n",
        "npx http-server .                # Start a local web server\n",
        "npx prettier --write .           # Format code or docs\n",
        "npx eslint .                     # Lint JavaScript\n",
        "npx typescript-node script.ts    # Run TypeScript directly\n",
        "npx esbuild app.js               # Bundle JavaScript\n",
        "npx jsdoc .                      # Generate JavaScript docs\n",
        "\n",
        "# Run specific versions\n",
        "npx prettier@3.2 --write .        # Use prettier 3.2\n",
        "\n",
        "# Execute remote scripts (use with caution!)\n",
        "npx github:user/repo            # Run from GitHub\n"
      ],
      "metadata": {
        "id": "RK7UC0ZzgFfi"
      },
      "execution_count": null,
      "outputs": []
    },
    {
      "cell_type": "markdown",
      "source": [
        "Unicode encoding"
      ],
      "metadata": {
        "id": "OB_H5v_DgLuu"
      }
    },
    {
      "cell_type": "code",
      "source": [
        "# Reading files with explicit encoding\n",
        "with open('file.txt', encoding='utf-8') as f:\n",
        "    text = f.read()\n",
        "\n",
        "# Handling encoding errors\n",
        "import pandas as pd\n",
        "df = pd.read_csv('data.csv', encoding='utf-8', errors='replace')\n",
        "\n",
        "# Detecting file encoding\n",
        "import chardet\n",
        "with open('unknown.txt', 'rb') as f:\n",
        "    result = chardet.detect(f.read())\n",
        "print(result['encoding'])\n"
      ],
      "metadata": {
        "id": "EgkCuryLgIOm"
      },
      "execution_count": null,
      "outputs": []
    },
    {
      "cell_type": "markdown",
      "source": [
        "JSON"
      ],
      "metadata": {
        "id": "XZLaDjd7gUa_"
      }
    },
    {
      "cell_type": "code",
      "source": [
        "import json\n",
        "\n",
        "# Parse JSON string\n",
        "json_str = '{\"name\": \"Alice\", \"age\": 30}'\n",
        "data = json.loads(json_str)\n",
        "\n",
        "# Convert to JSON string\n",
        "json_str = json.dumps(data, indent=2)\n",
        "\n",
        "# Read JSON from file\n",
        "with open('data.json') as f:\n",
        "    data = json.load(f)\n",
        "\n",
        "# Write JSON to file\n",
        "with open('output.json', 'w') as f:\n",
        "    json.dump(data, f, indent=2)\n",
        "\n",
        "# Read JSON data a Pandas DataFrame. JSON data is typically stored as an array of objects.\n",
        "import pandas as pd\n",
        "df = pd.read_json('data.json')\n",
        "\n",
        "# Read JSON lines from file into a DataFrame. JSON lines are typically one line per object.\n",
        "df = pd.read_json('data.jsonl', lines=True)\n"
      ],
      "metadata": {
        "id": "PdKHbSqrgYci"
      },
      "execution_count": null,
      "outputs": []
    },
    {
      "cell_type": "markdown",
      "source": [
        "Bash scripting\n",
        "\n",
        "# File Operations\n",
        "ls -la               # List all files with details\n",
        "cd path/to/dir       # Change directory\n",
        "pwd                  # Print working directory\n",
        "cp source dest       # Copy files\n",
        "mv source dest       # Move/rename files\n",
        "rm -rf dir           # Remove directory recursively\n",
        "\n",
        "# Text Processing\n",
        "grep \"pattern\" file  # Search for pattern\n",
        "sed 's/old/new/' f   # Replace text\n",
        "awk '{print $1}' f   # Process text by columns\n",
        "cat file | wc -l     # Count lines\n",
        "\n",
        "# Process Management\n",
        "ps aux               # List processes\n",
        "kill -9 PID          # Force kill process\n",
        "top                  # Monitor processes\n",
        "htop                 # Interactive process viewer\n",
        "\n",
        "# Network\n",
        "curl url             # HTTP requests\n",
        "wget url             # Download files\n",
        "nc -zv host port     # Test connectivity\n",
        "ssh user@host        # Remote login\n",
        "\n",
        "# Count unique values in CSV column\n",
        "cut -d',' -f1 data.csv | sort | uniq -c\n",
        "\n",
        "# Quick data analysis\n",
        "awk -F',' '{sum+=$2} END {print sum/NR}' data.csv  # Average\n",
        "sort -t',' -k2 -n data.csv | head                  # Top 10\n",
        "\n",
        "# Monitor log in real-time\n",
        "tail -f log.txt | grep --color 'ERROR'\n",
        "#!/bin/bash\n",
        "\n",
        "# Variables\n",
        "NAME=\"value\"\n",
        "echo $NAME\n",
        "\n",
        "# Loops\n",
        "for i in {1..5}; do\n",
        "    echo $i\n",
        "done\n",
        "\n",
        "# Conditionals\n",
        "if [ -f \"file.txt\" ]; then\n",
        "    echo \"File exists\"\n",
        "fi\n",
        "\n",
        "# Functions\n",
        "process_data() {\n",
        "    local input=$1\n",
        "    echo \"Processing $input\"\n",
        "}\n"
      ],
      "metadata": {
        "id": "_IFS2aPLgbK_"
      }
    },
    {
      "cell_type": "markdown",
      "source": [
        "SQLITE Operation"
      ],
      "metadata": {
        "id": "UUQQgR1Ogx0U"
      }
    },
    {
      "cell_type": "code",
      "source": [
        "-- Create a table\n",
        "CREATE TABLE users (\n",
        "    id INTEGER PRIMARY KEY,\n",
        "    name TEXT NOT NULL,\n",
        "    email TEXT UNIQUE,\n",
        "    created_at DATETIME DEFAULT CURRENT_TIMESTAMP\n",
        ");\n",
        "\n",
        "-- Insert data\n",
        "INSERT INTO users (name, email) VALUES\n",
        "    ('Alice', 'alice@example.com'),\n",
        "    ('Bob', 'bob@example.com');\n",
        "\n",
        "-- Query data\n",
        "SELECT name, COUNT(*) as count\n",
        "FROM users\n",
        "GROUP BY name\n",
        "HAVING count > 1;\n",
        "\n",
        "-- Join tables\n",
        "SELECT u.name, o.product\n",
        "FROM users u\n",
        "LEFT JOIN orders o ON u.id = o.user_id\n",
        "WHERE o.status = 'pending';\n"
      ],
      "metadata": {
        "id": "3WxthqoPgoTJ"
      },
      "execution_count": null,
      "outputs": []
    },
    {
      "cell_type": "code",
      "source": [
        "import sqlite3\n",
        "from pathlib import Path\n",
        "import pandas as pd\n",
        "\n",
        "async def query_database(db_path: Path, query: str) -> pd.DataFrame:\n",
        "    \"\"\"Execute SQL query and return results as DataFrame.\n",
        "\n",
        "    Args:\n",
        "        db_path: Path to SQLite database\n",
        "        query: SQL query to execute\n",
        "\n",
        "    Returns:\n",
        "        DataFrame with query results\n",
        "    \"\"\"\n",
        "    try:\n",
        "        conn = sqlite3.connect(db_path)\n",
        "        return pd.read_sql_query(query, conn)\n",
        "    finally:\n",
        "        conn.close()\n",
        "\n",
        "# Example usage\n",
        "db = Path('data.db')\n",
        "df = await query_database(db, '''\n",
        "    SELECT date, COUNT(*) as count\n",
        "    FROM events\n",
        "    GROUP BY date\n",
        "''')\n"
      ],
      "metadata": {
        "id": "63reUxNcg1Z5"
      },
      "execution_count": null,
      "outputs": []
    },
    {
      "cell_type": "markdown",
      "source": [
        "# Repository Setup\n",
        "git init                   # Create new repo\n",
        "git clone url              # Clone existing repo\n",
        "git remote add origin url  # Connect to remote\n",
        "\n",
        "# Basic Workflow\n",
        "git status                 # Check status\n",
        "git add .                  # Stage all changes\n",
        "git commit -m \"message\"    # Commit changes\n",
        "git push origin main       # Push to remote\n",
        "\n",
        "# Branching\n",
        "git branch                 # List branches\n",
        "git checkout -b feature    # Create/switch branch\n",
        "git merge feature          # Merge branch\n",
        "git rebase main            # Rebase on main\n",
        "\n",
        "# History\n",
        "git log --oneline          # View history\n",
        "git diff commit1 commit2   # Compare commits\n",
        "git blame file             # Show who changed what\n",
        "\n"
      ],
      "metadata": {
        "id": "OflFzJ8BhL3Z"
      }
    },
    {
      "cell_type": "markdown",
      "source": [
        "Image tools"
      ],
      "metadata": {
        "id": "ZCMtjjX_hSj8"
      }
    },
    {
      "cell_type": "code",
      "source": [
        "from pathlib import Path\n",
        "from PIL import Image\n",
        "import io\n",
        "\n",
        "async def compress_image(input_path: Path, output_path: Path, quality: int = 85) -> None:\n",
        "    \"\"\"Compress an image while maintaining reasonable quality.\"\"\"\n",
        "    with Image.open(input_path) as img:\n",
        "        # Convert RGBA to RGB if needed\n",
        "        if img.mode == 'RGBA':\n",
        "            img = img.convert('RGB')\n",
        "        # Optimize for web\n",
        "        img.save(output_path, 'WEBP', quality=quality, optimize=True)\n",
        "\n",
        "# Batch process images\n",
        "paths = Path('images').glob('*.jpg')\n",
        "for p in paths:\n",
        "    await compress_image(p, p.with_suffix('.webp'))\n"
      ],
      "metadata": {
        "id": "tACyzSetg4Ai"
      },
      "execution_count": null,
      "outputs": []
    },
    {
      "cell_type": "code",
      "source": [
        "#Github\n",
        "# Create a new GitHub repo\n",
        "mkdir my-site\n",
        "cd my-site\n",
        "git init\n",
        "\n",
        "# Add your static content\n",
        "echo \"<h1>My Site</h1>\" > index.html\n",
        "\n",
        "# Push to GitHub\n",
        "git add .\n",
        "git commit -m \"feat(pages): initial commit\"\n",
        "git push origin main\n",
        "\n",
        "# Enable GitHub Pages from the main branch on the repo settings page\n"
      ],
      "metadata": {
        "id": "xRrmY1XGhVEw"
      },
      "execution_count": null,
      "outputs": []
    },
    {
      "cell_type": "markdown",
      "source": [
        "Podman/docker"
      ],
      "metadata": {
        "id": "XzYTF9vlhzFk"
      }
    },
    {
      "cell_type": "code",
      "source": [
        "#Initialize the container engine:\n",
        "podman machine init\n",
        "podman machine start\n",
        "# Pull an image\n",
        "podman pull python:3.11-slim\n",
        "\n",
        "# Run a container\n",
        "podman run -it python:3.11-slim\n",
        "\n",
        "# List containers\n",
        "podman ps -a\n",
        "\n",
        "# Stop container\n",
        "podman stop container_id\n",
        "\n",
        "# Scan image for vulnerabilities\n",
        "podman scan myapp:latest\n",
        "\n",
        "# Remove container\n",
        "podman rm container_id\n",
        "\n",
        "# Remove all stopped containers\n",
        "podman container prune\n"
      ],
      "metadata": {
        "id": "st5IcGoOh1J7"
      },
      "execution_count": null,
      "outputs": []
    },
    {
      "cell_type": "code",
      "source": [
        "# Create an account on https://hub.docker.com/ and then login\n",
        "podman login docker.io\n",
        "\n",
        "# Build and run the container\n",
        "podman build -t py-hello .\n",
        "podman run -it py-hello\n",
        "\n",
        "# Push the container to Docker Hub. Replace $DOCKER_HUB_USERNAME with your Docker Hub username.\n",
        "podman push py-hello:latest docker.io/$DOCKER_HUB_USERNAME/py-hello\n",
        "\n",
        "# Push adding a specific tag, e.g. dev\n",
        "TAG=dev podman push py-hello docker.io/$DOCKER_HUB_USERNAME/py-hello:$TAG\n"
      ],
      "metadata": {
        "id": "OAiBe27chdDO"
      },
      "execution_count": null,
      "outputs": []
    },
    {
      "cell_type": "code",
      "source": [
        "#ngrok\n",
        "ngrok config add-authtoken $YOUR_AUTHTOKEN\n",
        "# Start a local server on port 8000\n",
        "uv run -m http.server 8000\n",
        "\n",
        "# Start HTTP tunnel\n",
        "uvx ngrok http 8000\n"
      ],
      "metadata": {
        "id": "K0iwAbbyiFik"
      },
      "execution_count": null,
      "outputs": []
    },
    {
      "cell_type": "markdown",
      "source": [
        "FASTAPI\n"
      ],
      "metadata": {
        "id": "gMYuulm1iTXb"
      }
    },
    {
      "cell_type": "code",
      "source": [
        "from fastapi import FastAPI\n",
        "from fastapi.middleware.cors import CORSMiddleware\n",
        "\n",
        "app = FastAPI()\n",
        "\n",
        "app.add_middleware(CORSMiddleware, allow_origins=[\"*\"]) # Allow GET requests from all origins\n",
        "# Or, provide more granular control:\n",
        "app.add_middleware(\n",
        "    CORSMiddleware,\n",
        "    allow_origins=[\"https://example.com\"],  # Allow a specific domain\n",
        "    allow_credentials=True,  # Allow cookies\n",
        "    allow_methods=[\"GET\", \"POST\", \"PUT\", \"DELETE\"],  # Allow specific methods\n",
        "    allow_headers=[\"*\"],  # Allow all headers\n",
        ")\n"
      ],
      "metadata": {
        "id": "qfKB01mMiKsu"
      },
      "execution_count": null,
      "outputs": []
    },
    {
      "cell_type": "code",
      "source": [
        "# /// script\n",
        "# requires-python = \">=3.13\"\n",
        "# dependencies = [\n",
        "#     \"fastapi\",\n",
        "#     \"uvicorn\",\n",
        "# ]\n",
        "# ///\n",
        "from fastapi import FastAPI, HTTPException\n",
        "from typing import Dict, List\n",
        "\n",
        "app = FastAPI()\n",
        "\n",
        "# Create a list of items that will act like a database\n",
        "items: List[Dict[str, float | int | str]] = []\n",
        "\n",
        "# Create a GET endpoint that returns all items\n",
        "@app.get(\"/items\")\n",
        "async def get_items() -> List[Dict[str, float | int | str]]:\n",
        "    return items\n",
        "\n",
        "# Create a GET endpoint that returns a specific item by ID\n",
        "@app.get(\"/items/{item_id}\")\n",
        "async def get_item(item_id: int) -> Dict[str, float | int | str]:\n",
        "    if item := next((i for i in items if i[\"id\"] == item_id), None):\n",
        "        return item\n",
        "    raise HTTPException(status_code=404, detail=\"Item not found\")\n",
        "\n",
        "# Create a POST endpoint that creates a new item\n",
        "@app.post(\"/items\")\n",
        "async def create_item(item: Dict[str, float | str]) -> Dict[str, float | int | str]:\n",
        "    new_item = {\"id\": len(items) + 1, \"name\": item[\"name\"], \"price\": float(item[\"price\"])}\n",
        "    items.append(new_item)\n",
        "    return new_item\n",
        "\n",
        "if __name__ == \"__main__\":\n",
        "    import uvicorn\n",
        "    uvicorn.run(app, host=\"0.0.0.0\", port=8000)\n"
      ],
      "metadata": {
        "id": "wZUcILlQiaa9"
      },
      "execution_count": null,
      "outputs": []
    },
    {
      "cell_type": "code",
      "source": [
        "# /// script\n",
        "# requires-python = \">=3.11\"\n",
        "# dependencies = [\n",
        "#   \"fastapi\",\n",
        "#   \"uvicorn\",\n",
        "# ]\n",
        "# ///\n",
        "\n",
        "from fastapi import FastAPI\n",
        "\n",
        "app = FastAPI()\n",
        "\n",
        "@app.get(\"/\")\n",
        "async def root():\n",
        "    return {\"message\": \"Hello!\"}\n",
        "\n",
        "if __name__ == \"__main__\":\n",
        "    import uvicorn\n",
        "    uvicorn.run(app, host=\"0.0.0.0\", port=8000)\n",
        "from fastapi import HTTPException\n",
        "\n",
        "async def get_item(item_id: int):\n",
        "    if not valid_item(item_id):\n",
        "        raise HTTPException(\n",
        "            status_code=404,\n",
        "            detail=f\"Item {item_id} not found\"\n",
        "        )\n",
        "from fastapi import Request\n",
        "import time\n",
        "\n",
        "@app.middleware(\"http\")\n",
        "async def add_timing(request: Request, call_next):\n",
        "    start = time.time()\n",
        "    response = await call_next(request)\n",
        "    response.headers[\"X-Process-Time\"] = str(time.time() - start)\n",
        "    return response\n"
      ],
      "metadata": {
        "id": "DyZkS1vFibOE"
      },
      "execution_count": null,
      "outputs": []
    },
    {
      "cell_type": "code",
      "source": [
        "# prompt: curl https://api.openai.com/v1/chat/completions \\\n",
        "#   -H \"Content-Type: application/json\" \\\n",
        "#   -H \"Authorization: Bearer $OPENAI_API_KEY\" \\\n",
        "#   -d '{\n",
        "#     \"model\": \"gpt-4o-mini\",\n",
        "#     \"messages\": [{ \"role\": \"user\", \"content\": \"Write a haiku about programming.\" }]\n",
        "#   }'\n",
        "# use requests library for this\n",
        "\n",
        "import requests\n",
        "import os\n",
        "\n",
        "# Replace with your actual API key\n",
        "openai_api_key = os.getenv(\"OPENAI_API_KEY\")\n",
        "\n",
        "headers = {\n",
        "    \"Content-Type\": \"application/json\",\n",
        "    \"Authorization\": f\"Bearer {openai_api_key}\"\n",
        "}\n",
        "\n",
        "data = {\n",
        "    \"model\": \"gpt-4o-mini\",\n",
        "    \"messages\": [{\"role\": \"user\", \"content\": \"Write a haiku about programming.\"}]\n",
        "}\n",
        "\n",
        "response = requests.post(\"https://api.openai.com/v1/chat/completions\", headers=headers, json=data)\n",
        "\n",
        "if response.status_code == 200:\n",
        "  print(response.json())\n",
        "else:\n",
        "  print(f\"Request failed with status code: {response.status_code}\")\n",
        "response.text\n"
      ],
      "metadata": {
        "id": "aVX_UB_0ikSh"
      },
      "execution_count": null,
      "outputs": []
    },
    {
      "cell_type": "code",
      "source": [
        "# prompt: curl -X POST http://aiproxy.sanand.workers.dev/openai/v1/chat/completions \\\n",
        "#   -H \"Content-Type: application/json\" \\\n",
        "#   -H \"Authorization: Bearer $AIPROXY_TOKEN\" \\\n",
        "#   -d '{\"model\": \"gpt-4o-mini\", \"messages\": [{\"role\": \"user\", \"content\": \"What is 2 + 2\"}]}'\n",
        "# curl -X POST http://aiproxy.sanand.workers.dev/openai/v1/embeddings \\\n",
        "#   -H \"Content-Type: application/json\" \\\n",
        "#   -H \"Authorization: Bearer $AIPROXY_TOKEN\" \\\n",
        "#   -d '{\"model\": \"text-embedding-3-small\", \"input\": [\"king\", \"queen\"]}'\n",
        "# convert to python using requests\n",
        "\n",
        "import os\n",
        "import requests\n",
        "\n",
        "# Replace with your actual API key\n",
        "aiproxy_token = os.getenv(\"AIPROXY_TOKEN\")\n",
        "\n",
        "headers = {\n",
        "    \"Content-Type\": \"application/json\",\n",
        "    \"Authorization\": f\"Bearer {aiproxy_token}\"\n",
        "}\n",
        "\n",
        "# First cURL command\n",
        "data_chat = {\n",
        "    \"model\": \"gpt-4o-mini\",\n",
        "    \"messages\": [{\"role\": \"user\", \"content\": \"What is 2 + 2\"}]\n",
        "}\n",
        "\n",
        "response_chat = requests.post(\"http://aiproxy.sanand.workers.dev/openai/v1/chat/completions\", headers=headers, json=data_chat)\n",
        "\n",
        "if response_chat.status_code == 200:\n",
        "    print(\"Chat completion response:\")\n",
        "    print(response_chat.json())\n",
        "else:\n",
        "    print(f\"Chat completion request failed with status code: {response_chat.status_code}\")\n",
        "    print(response_chat.text)\n",
        "\n",
        "\n",
        "# Second cURL command\n",
        "data_embeddings = {\n",
        "    \"model\": \"text-embedding-3-small\",\n",
        "    \"input\": [\"king\", \"queen\"]\n",
        "}\n",
        "\n",
        "response_embeddings = requests.post(\"http://aiproxy.sanand.workers.dev/openai/v1/embeddings\", headers=headers, json=data_embeddings)\n",
        "\n",
        "if response_embeddings.status_code == 200:\n",
        "    print(\"\\nEmbeddings response:\")\n",
        "    print(response_embeddings.json())\n",
        "else:\n",
        "    print(f\"Embeddings request failed with status code: {response_embeddings.status_code}\")\n",
        "response_embeddings.text\n"
      ],
      "metadata": {
        "id": "eYX1uf02jcRn"
      },
      "execution_count": null,
      "outputs": []
    },
    {
      "cell_type": "code",
      "source": [
        "# prompt: curl https://api.openai.com/v1/chat/completions \\\n",
        "# -H \"Authorization: Bearer $OPENAI_API_KEY\" \\\n",
        "# -H \"Content-Type: application/json\" \\\n",
        "# -d '{\n",
        "#   \"model\": \"gpt-4o-2024-08-06\",\n",
        "#   \"messages\": [\n",
        "#     { \"role\": \"system\", \"content\": \"You are a helpful math tutor. Guide the user through the solution step by step.\" },\n",
        "#     { \"role\": \"user\", \"content\": \"how can I solve 8x + 7 = -23\" }\n",
        "#   ],\n",
        "#   \"response_format\": {\n",
        "#     \"type\": \"json_schema\",\n",
        "#     \"json_schema\": {\n",
        "#       \"name\": \"math_response\",\n",
        "#       \"strict\": true\n",
        "#       \"schema\": {\n",
        "#         \"type\": \"object\",\n",
        "#         \"properties\": {\n",
        "#           \"steps\": {\n",
        "#             \"type\": \"array\",\n",
        "#             \"items\": {\n",
        "#               \"type\": \"object\",\n",
        "#               \"properties\": { \"explanation\": { \"type\": \"string\" }, \"output\": { \"type\": \"string\" } },\n",
        "#               \"required\": [\"explanation\", \"output\"],\n",
        "#               \"additionalProperties\": false\n",
        "#             }\n",
        "#           },\n",
        "#           \"final_answer\": { \"type\": \"string\" }\n",
        "#         },\n",
        "#         \"required\": [\"steps\", \"final_answer\"],\n",
        "#         \"additionalProperties\": false\n",
        "#       }\n",
        "#     }\n",
        "#   }\n",
        "# }'\n",
        "# convert using requests\n",
        "\n",
        "import requests\n",
        "import os\n",
        "\n",
        "# Replace with your actual API key\n",
        "openai_api_key = os.getenv(\"OPENAI_API_KEY\")\n",
        "\n",
        "headers = {\n",
        "    \"Content-Type\": \"application/json\",\n",
        "    \"Authorization\": f\"Bearer {openai_api_key}\"\n",
        "}\n",
        "\n",
        "data = {\n",
        "  \"model\": \"gpt-4o-2024-08-06\",\n",
        "  \"messages\": [\n",
        "    { \"role\": \"system\", \"content\": \"You are a helpful math tutor. Guide the user through the solution step by step.\" },\n",
        "    { \"role\": \"user\", \"content\": \"how can I solve 8x + 7 = -23\" }\n",
        "  ],\n",
        "  \"response_format\": {\n",
        "    \"type\": \"json_schema\",\n",
        "    \"json_schema\": {\n",
        "      \"name\": \"math_response\",\n",
        "      \"strict\": True,\n",
        "      \"schema\": {\n",
        "        \"type\": \"object\",\n",
        "        \"properties\": {\n",
        "          \"steps\": {\n",
        "            \"type\": \"array\",\n",
        "            \"items\": {\n",
        "              \"type\": \"object\",\n",
        "              \"properties\": { \"explanation\": { \"type\": \"string\" }, \"output\": { \"type\": \"string\" } },\n",
        "              \"required\": [\"explanation\", \"output\"],\n",
        "              \"additionalProperties\": False\n",
        "            }\n",
        "          },\n",
        "          \"final_answer\": { \"type\": \"string\" }\n",
        "        },\n",
        "        \"required\": [\"steps\", \"final_answer\"],\n",
        "        \"additionalProperties\": False\n",
        "      }\n",
        "    }\n",
        "  }\n",
        "}\n",
        "\n",
        "response = requests.post(\"https://aiproxy.sanand.workers.dev/openai/v1/chat/completions\", headers=headers, json=data)\n",
        "\n",
        "if response.status_code == 200:\n",
        "  print(response.json())\n",
        "else:\n",
        "  print(f\"Request failed with status code: {response.status_code}\")\n",
        "response.text\n"
      ],
      "metadata": {
        "id": "gQG_AHDejmW_"
      },
      "execution_count": null,
      "outputs": []
    },
    {
      "cell_type": "markdown",
      "source": [
        "Convert image to base64"
      ],
      "metadata": {
        "id": "VUOKKQT_kG8X"
      }
    },
    {
      "cell_type": "code",
      "source": [
        "import base64\n",
        "\n",
        "# Basic encoding/decoding\n",
        "text = \"Hello, World!\"\n",
        "# Convert text to base64\n",
        "encoded = base64.b64encode(text.encode()).decode()  # SGVsbG8sIFdvcmxkIQ==\n",
        "# Convert base64 back to text\n",
        "decoded = base64.b64decode(encoded).decode()        # Hello, World!\n",
        "# Convert to URL-safe base64\n",
        "url_safe = base64.urlsafe_b64encode(text.encode()).decode()  # SGVsbG8sIFdvcmxkIQ==\n",
        "\n",
        "# Working with binary files (e.g., images)\n",
        "with open('image.png', 'rb') as f:\n",
        "    binary_data = f.read()\n",
        "    image_b64 = base64.b64encode(binary_data).decode()\n",
        "\n",
        "# Data URI example (embed images in HTML/CSS)\n",
        "data_uri = f\"data:image/png;base64,{image_b64}\"\n"
      ],
      "metadata": {
        "id": "ikyU6bhvj9Dn"
      },
      "execution_count": null,
      "outputs": []
    },
    {
      "cell_type": "code",
      "source": [
        "# prompt: curl https://api.openai.com/v1/chat/completions \\\n",
        "#   -H \"Content-Type: application/json\" \\\n",
        "#   -H \"Authorization: Bearer $OPENAI_API_KEY\" \\\n",
        "#   -d '{\n",
        "#     \"model\": \"gpt-4o-mini\",\n",
        "#     \"messages\": [\n",
        "#       {\n",
        "#         \"role\": \"user\",\n",
        "#         \"content\": [\n",
        "#           {\"type\": \"text\", \"text\": \"What is in this image?\"},\n",
        "#           {\n",
        "#             \"type\": \"image_url\",\n",
        "#             \"detail\": \"low\",\n",
        "#             \"image_url\": {\"url\": \"https://upload.wikimedia.org/wikipedia/commons/3/34/Correlation_coefficient.png\"}\n",
        "#           }\n",
        "#         ]\n",
        "#       }\n",
        "#     ]\n",
        "#   }'\n",
        "# convert using requests\n",
        "\n",
        "import requests\n",
        "import os\n",
        "\n",
        "# Replace with your actual API key\n",
        "openai_api_key = os.getenv(\"OPENAI_API_KEY\")\n",
        "\n",
        "headers = {\n",
        "    \"Content-Type\": \"application/json\",\n",
        "    \"Authorization\": f\"Bearer {openai_api_key}\"\n",
        "}\n",
        "\n",
        "data = {\n",
        "    \"model\": \"gpt-4o-mini\",\n",
        "    \"messages\": [\n",
        "      {\n",
        "        \"role\": \"user\",\n",
        "        \"content\": [\n",
        "          {\"type\": \"text\", \"text\": \"What is in this image?\"},\n",
        "          {\n",
        "            \"type\": \"image_url\",\n",
        "            \"detail\": \"low\",\n",
        "            \"image_url\": {\"url\": \"https://upload.wikimedia.org/wikipedia/commons/3/34/Correlation_coefficient.png\"}\n",
        "          }\n",
        "        ]\n",
        "      }\n",
        "    ]\n",
        "  }\n",
        "\n",
        "response = requests.post(\"https://aiproxy.sanand.workers.dev/openai/v1/chat/completions\", headers=headers, json=data)\n",
        "\n",
        "if response.status_code == 200:\n",
        "  print(response.json())\n",
        "else:\n",
        "  print(f\"Request failed with status code: {response.status_code}\")\n"
      ],
      "metadata": {
        "id": "hwlj4iZOkJwO"
      },
      "execution_count": null,
      "outputs": []
    },
    {
      "cell_type": "code",
      "source": [
        "# prompt: convert to python using requests # Download image and convert to base64 in one step\n",
        "# IMAGE_BASE64=$(curl -s \"https://upload.wikimedia.org/wikipedia/commons/3/34/Correlation_coefficient.png\" | base64 -w 0)\n",
        "# # Send to OpenAI API\n",
        "# curl https://api.openai.com/v1/chat/completions \\\n",
        "#   -H \"Content-Type: application/json\" \\\n",
        "#   -H \"Authorization: Bearer $OPENAI_API_KEY\" \\\n",
        "#   -d @- << EOF\n",
        "# {\n",
        "#   \"model\": \"gpt-4o-mini\",\n",
        "#   \"messages\": [\n",
        "#     {\n",
        "#       \"role\": \"user\",\n",
        "#       \"content\": [\n",
        "#         {\"type\": \"text\", \"text\": \"What is in this image?\"},\n",
        "#         {\n",
        "#           \"type\": \"image_url\",\n",
        "#           \"image_url\": { \"url\": \"data:image/png;base64,$IMAGE_BASE64\" }\n",
        "#         }\n",
        "#       ]\n",
        "#     }\n",
        "#   ]\n",
        "# }\n",
        "# EOF\n",
        "\n",
        "import requests\n",
        "import os\n",
        "import base64\n",
        "\n",
        "# Replace with your actual API key\n",
        "openai_api_key = os.getenv(\"OPENAI_API_KEY\")\n",
        "\n",
        "# Download the image and encode it to base64 in one step\n",
        "image_url = \"https://upload.wikimedia.org/wikipedia/commons/3/34/Correlation_coefficient.png\"\n",
        "response = requests.get(image_url)\n",
        "response.raise_for_status()  # Raise an exception for bad status codes\n",
        "image_base64 = base64.b64encode(response.content).decode('utf-8')\n",
        "\n",
        "\n",
        "headers = {\n",
        "    \"Content-Type\": \"application/json\",\n",
        "    \"Authorization\": f\"Bearer {openai_api_key}\"\n",
        "}\n",
        "\n",
        "data = {\n",
        "    \"model\": \"gpt-4o-mini\",\n",
        "    \"messages\": [\n",
        "        {\n",
        "            \"role\": \"user\",\n",
        "            \"content\": [\n",
        "                {\"type\": \"text\", \"text\": \"What is in this image?\"},\n",
        "                {\n",
        "                    \"type\": \"image_url\",\n",
        "                    \"image_url\": {\"url\": f\"data:image/png;base64,{image_base64}\"}\n",
        "                }\n",
        "            ]\n",
        "        }\n",
        "    ]\n",
        "}\n",
        "\n",
        "response = requests.post(\"https://aiproxy.sanand.workers.dev/openai/v1/chat/completions\", headers=headers, json=data)\n",
        "\n",
        "if response.status_code == 200:\n",
        "    print(response.json())\n",
        "else:\n",
        "    print(f\"Request failed with status code: {response.status_code}\")\n",
        "response.text\n"
      ],
      "metadata": {
        "id": "O-Fs53GskUvK"
      },
      "execution_count": null,
      "outputs": []
    },
    {
      "cell_type": "markdown",
      "source": [
        "EMbeddings\n"
      ],
      "metadata": {
        "id": "lM1pqH1skpL4"
      }
    },
    {
      "cell_type": "code",
      "source": [
        "# /// script\n",
        "# requires-python = \"==3.12\"\n",
        "# dependencies = [\n",
        "#   \"sentence-transformers\",\n",
        "#   \"httpx\",\n",
        "#   \"numpy\",\n",
        "# ]\n",
        "# ///\n",
        "\n",
        "from sentence_transformers import SentenceTransformer\n",
        "import numpy as np\n",
        "\n",
        "model = SentenceTransformer('BAAI/bge-base-en-v1.5')  # A small, high quality model\n",
        "\n",
        "async def embed(text: str) -> list[float]:\n",
        "    \"\"\"Get embedding vector for text using local model.\"\"\"\n",
        "    return model.encode(text).tolist()\n",
        "\n",
        "async def get_similarity(text1: str, text2: str) -> float:\n",
        "    \"\"\"Calculate cosine similarity between two texts.\"\"\"\n",
        "    emb1 = np.array(await embed(text1))\n",
        "    emb2 = np.array(await embed(text2))\n",
        "    return float(np.dot(emb1, emb2) / (np.linalg.norm(emb1) * np.linalg.norm(emb2)))\n",
        "\n",
        "async def main():\n",
        "    print(await get_similarity(\"Apple\", \"Orange\"))\n",
        "    print(await get_similarity(\"Apple\", \"Lightning\"))\n",
        "\n",
        "\n",
        "if __name__ == \"__main__\":\n",
        "    import asyncio\n",
        "    asyncio.run(main())\n"
      ],
      "metadata": {
        "id": "TK2Afeifkhk2"
      },
      "execution_count": null,
      "outputs": []
    },
    {
      "cell_type": "code",
      "source": [],
      "metadata": {
        "id": "h_bHQk5hkoD5"
      },
      "execution_count": null,
      "outputs": []
    },
    {
      "cell_type": "markdown",
      "source": [
        "Function calling\n"
      ],
      "metadata": {
        "id": "IIMVOOKdkzFY"
      }
    },
    {
      "cell_type": "code",
      "source": [
        "# /// script\n",
        "# requires-python = \">=3.11\"\n",
        "# dependencies = [\n",
        "#   \"httpx\",\n",
        "# ]\n",
        "# ///\n",
        "\n",
        "import httpx\n",
        "import os\n",
        "from typing import Dict, Any\n",
        "\n",
        "\n",
        "def query_gpt(user_input: str, tools: list[Dict[str, Any]]) -> Dict[str, Any]:\n",
        "    response = httpx.post(\n",
        "        \"https://api.openai.com/v1/chat/completions\",\n",
        "        headers={\n",
        "            \"Authorization\": f\"Bearer {os.getenv('OPENAI_API_KEY')}\",\n",
        "            \"Content-Type\": \"application/json\",\n",
        "        },\n",
        "        json={\n",
        "            \"model\": \"gpt-4o-mini\",\n",
        "            \"messages\": [{\"role\": \"user\", \"content\": user_input}],\n",
        "            \"tools\": tools,\n",
        "            \"tool_choice\": \"auto\",\n",
        "        },\n",
        "    )\n",
        "    return response.json()[\"choices\"][0][\"message\"]\n",
        "\n",
        "\n",
        "WEATHER_TOOL = {\n",
        "    \"type\": \"function\",\n",
        "    \"function\": {\n",
        "        \"name\": \"get_weather\",\n",
        "        \"description\": \"Get the current weather for a location\",\n",
        "        \"parameters\": {\n",
        "            \"type\": \"object\",\n",
        "            \"properties\": {\n",
        "                \"location\": {\"type\": \"string\", \"description\": \"City name or coordinates\"}\n",
        "            },\n",
        "            \"required\": [\"location\"],\n",
        "            \"additionalProperties\": False,\n",
        "        },\n",
        "        \"strict\": True,\n",
        "    },\n",
        "}\n",
        "\n",
        "if __name__ == \"__main__\":\n",
        "    response = query_gpt(\"What is the weather in San Francisco?\", [WEATHER_TOOL])\n",
        "    print([tool_call[\"function\"] for tool_call in response[\"tool_calls\"]])\n",
        "\n",
        "\n",
        "\n",
        "tools = [\n",
        "    {\n",
        "        \"type\": \"function\",\n",
        "        \"function\": {\n",
        "            \"name\": \"get_expense_balance\",\n",
        "            \"description\": \"Get expense balance for an employee\",\n",
        "            \"parameters\": {\n",
        "                \"type\": \"object\",\n",
        "                \"properties\": {\n",
        "                    \"employee_id\": {\n",
        "                        \"type\": \"integer\",\n",
        "                        \"description\": \"Employee ID number\"\n",
        "                    }\n",
        "                },\n",
        "                \"required\": [\"employee_id\"],\n",
        "                \"additionalProperties\": False\n",
        "            },\n",
        "            \"strict\": True\n",
        "        }\n",
        "    },\n",
        "    {\n",
        "        \"type\": \"function\",\n",
        "        \"function\": {\n",
        "            \"name\": \"calculate_performance_bonus\",\n",
        "            \"description\": \"Calculate yearly performance bonus for an employee\",\n",
        "            \"parameters\": {\n",
        "                \"type\": \"object\",\n",
        "                \"properties\": {\n",
        "                    \"employee_id\": {\n",
        "                        \"type\": \"integer\",\n",
        "                        \"description\": \"Employee ID number\"\n",
        "                    },\n",
        "                    \"current_year\": {\n",
        "                        \"type\": \"integer\",\n",
        "                        \"description\": \"Year to calculate bonus for\"\n",
        "                    }\n",
        "                },\n",
        "                \"required\": [\"employee_id\", \"current_year\"],\n",
        "                \"additionalProperties\": False\n",
        "            },\n",
        "            \"strict\": True\n",
        "        }\n",
        "    }\n",
        "]\n"
      ],
      "metadata": {
        "id": "hNVOn9qmk1WE"
      },
      "execution_count": null,
      "outputs": []
    },
    {
      "cell_type": "code",
      "source": [],
      "metadata": {
        "id": "e92onrVfk5UV"
      },
      "execution_count": null,
      "outputs": []
    },
    {
      "cell_type": "markdown",
      "source": [
        "For image code: https://tds.s-anand.net/#/transforming-images"
      ],
      "metadata": {
        "id": "kNIow8-MlhlL"
      }
    },
    {
      "cell_type": "markdown",
      "source": [
        "For transcription using gemini\n"
      ],
      "metadata": {
        "id": "PQXySlxylr4R"
      }
    },
    {
      "cell_type": "code",
      "source": [
        "# prompt: curl -X POST https://generativelanguage.googleapis.com/v1beta/models/gemini-1.5-flash-002:streamGenerateContent?alt=sse \\\n",
        "#   -H \"X-Goog-API-Key: $GEMINI_API_KEY\" \\\n",
        "#   -H \"Content-Type: application/json\" \\\n",
        "#   -d \"$(cat << EOF\n",
        "# {\n",
        "#   \"contents\": [\n",
        "#     {\n",
        "#       \"role\": \"user\",\n",
        "#       \"parts\": [\n",
        "#         {\n",
        "#           \"inline_data\": {\n",
        "#             \"mime_type\": \"audio/mp3\",\n",
        "#             \"data\": \"$(base64 --wrap=0 $MP3_FILE)\"\n",
        "#           }\n",
        "#         },\n",
        "#         {\"text\": \"Transcribe this\"}\n",
        "#       ]\n",
        "#     }\n",
        "#   ]\n",
        "# }\n",
        "# EOF\n",
        "# )\"\n",
        "# convert to python using requests\n",
        "\n",
        "import os\n",
        "import base64\n",
        "import requests\n",
        "\n",
        "def transcribe_audio(mp3_file_path, api_key):\n",
        "    \"\"\"Transcribes an MP3 audio file using the Gemini API.\n",
        "\n",
        "    Args:\n",
        "        mp3_file_path: Path to the MP3 file.\n",
        "        api_key: Your Gemini API key.\n",
        "\n",
        "    Returns:\n",
        "        The transcription text if successful, otherwise an error message.\n",
        "    \"\"\"\n",
        "\n",
        "    try:\n",
        "        with open(mp3_file_path, \"rb\") as audio_file:\n",
        "            audio_content = audio_file.read()\n",
        "            encoded_audio = base64.b64encode(audio_content).decode(\"utf-8\")\n",
        "\n",
        "        url = \"https://generativelanguage.googleapis.com/v1beta/models/gemini-1.5-flash-002:streamGenerateContent?alt=sse\"\n",
        "        headers = {\n",
        "            \"X-Goog-API-Key\": api_key,\n",
        "            \"Content-Type\": \"application/json\",\n",
        "        }\n",
        "        data = {\n",
        "            \"contents\": [\n",
        "                {\n",
        "                    \"role\": \"user\",\n",
        "                    \"parts\": [\n",
        "                        {\n",
        "                            \"inline_data\": {\n",
        "                                \"mime_type\": \"audio/mp3\",\n",
        "                                \"data\": encoded_audio,\n",
        "                            }\n",
        "                        },\n",
        "                        {\"text\": \"Transcribe this\"},\n",
        "                    ],\n",
        "                }\n",
        "            ]\n",
        "        }\n",
        "\n",
        "        response = requests.post(url, headers=headers, json=data)\n",
        "        response.raise_for_status() # Raise an exception for bad status codes\n",
        "\n",
        "        # Process the server-sent events (SSE) response\n",
        "        # This part needs to be adapted to how Gemini returns the transcription\n",
        "        # The following is a placeholder and might require adjustments\n",
        "        transcription = response.text\n",
        "        return transcription\n",
        "\n",
        "    except requests.exceptions.RequestException as e:\n",
        "        return f\"Error: {e}\"\n",
        "    except FileNotFoundError:\n",
        "        return \"Error: MP3 file not found.\"\n",
        "    except Exception as e:\n",
        "        return f\"An unexpected error occurred: {e}\"\n",
        "\n",
        "\n",
        "# Example Usage (replace with your actual file path and API key)\n",
        "# Make sure to set the environment variable GEMINI_API_KEY\n",
        "api_key = os.getenv(\"GEMINI_API_KEY\")\n",
        "mp3_file = \"audio.mp3\" # Replace with your MP3 file path\n",
        "\n",
        "if api_key:\n",
        "    transcription = transcribe_audio(mp3_file, api_key)\n",
        "    print(transcription)\n",
        "else:\n",
        "    print(\"Error: GEMINI_API_KEY environment variable not set.\")\n"
      ],
      "metadata": {
        "id": "GRNiDZZqlkmi"
      },
      "execution_count": null,
      "outputs": []
    },
    {
      "cell_type": "code",
      "source": [
        "faster-whisper-xxl \"video.mp4\" --model medium --language en\n",
        "faster-whisper-xxl --print_progress --output_dir source --batch_recursive \\\n",
        "                   --check_files --standard --output_format json srt \\\n",
        "                   --model medium --language en $FILE\n"
      ],
      "metadata": {
        "id": "Sx9plRzwl7yO"
      },
      "execution_count": null,
      "outputs": []
    },
    {
      "cell_type": "code",
      "source": [],
      "metadata": {
        "id": "nI8WpuI0l9q-"
      },
      "execution_count": null,
      "outputs": []
    },
    {
      "cell_type": "markdown",
      "source": [
        "Additional things :"
      ],
      "metadata": {
        "id": "zceNAiNfmPZ8"
      }
    },
    {
      "cell_type": "markdown",
      "source": [
        "![WhatsApp Image 2025-02-27 at 12.04.55_6debb10e.jpg](data:image/jpeg;base64,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)"
      ],
      "metadata": {
        "id": "NtjJHqZwmLz8"
      }
    },
    {
      "cell_type": "markdown",
      "source": [
        "Nominatham geocode : https://colab.research.google.com/drive/1-vvP-UyMjHgBqc-hdsUhm3Bsbgi7oO6g\n",
        "\n",
        "Wikipedia extraction : https://colab.research.google.com/drive/1-w8Jo6xcQs2jK0NxNddPW4HVCZhXmTBe#scrollTo=vDy-UnxvDNvc\n",
        "\n",
        "Pdf scraping : https://colab.research.google.com/drive/102Fv2Ji0J4mvao3mCse52E7Th8bZiuyf\n",
        "\n",
        "http://tds.s-anand.net/#/convert-pdfs-to-markdown\n",
        "\n",
        "http://aistudio.google.com/app/prompts/new_chat\n",
        "\n",
        "https://posts.keithweaver.ca/lessons/how-to-run-github-actions-on-a-schedule\n",
        "\n",
        "Data preparation in shell\n",
        "https://colab.research.google.com/drive/1KSFkQDK0v__XWaAaHKeQuIAwYV0dkTe8\n",
        "\n",
        "https://jeroenjanssens.com/dsatcl/\n",
        "\n",
        "pandas profilling : https://colab.research.google.com/drive/1hFo_zvBuKw_ugxRjX4XUSh65-hAvl7X0\n",
        "\n",
        "Image magick : http://www.fmwconcepts.com/imagemagick/index.php\n",
        "\n",
        "https://tds.s-anand.net/#/extracting-audio-and-transcripts?id=extracting-audio-and-transcripts\n",
        "\n",
        "GEOSPATIAL : https://colab.research.google.com/drive/1TwKw2pQ9XKSdTUUsTq_ulw7rb-xVhays?usp=sharing#scrollTo=ZhFST8Kkfh2V\n",
        "\n",
        "Cluster movies using sk-network: https://colab.research.google.com/drive/1VRlAOfREGwflv7v2VmN-6O_wqRno4Xcq?usp=sharing\n",
        "\n"
      ],
      "metadata": {
        "id": "b76h1_34mZ_a"
      }
    },
    {
      "cell_type": "markdown",
      "source": [
        "The transcript demonstrates a session on editing and processing a JSON dataset in Visual Studio Code (VS Code) using various keyboard shortcuts for efficiency. Here’s a summary of all shortcuts used:\n",
        "\n",
        "1. *Ctrl + Shift + P*  \n",
        "   - *Purpose*: Opens the Command Palette in VS Code.  \n",
        "   - *Usage*: Used to access commands like \"Format Document\" to prettify the JSON file and \"Sort Lines Ascending\" to order city names alphabetically.\n",
        "\n",
        "2. *Ctrl + D*  \n",
        "   - *Purpose*: Selects the next occurrence of the currently selected text for multi-cursor editing.  \n",
        "   - *Usage*: Applied to select multiple instances of \"city\" in the JSON file, enabling simultaneous editing of all occurrences.\n",
        "\n",
        "3. *Shift + Arrow Keys (e.g., Shift + Right, Shift + End)*  \n",
        "   - *Purpose*: Modifies the selection range from the current cursor position.  \n",
        "     - *Shift + Right*: Extends selection one character or word to the right.  \n",
        "     - *Shift + End*: Extends selection to the end of the line for all cursors.  \n",
        "   - *Usage*: Extended the selection of \"city\" values to include full lines (e.g., \"city\": \"Bangalore\") after multi-cursor selection with Ctrl + D.\n",
        "\n",
        "4. *Ctrl + F*  \n",
        "   - *Purpose*: Opens the Find dialog to search within the file.  \n",
        "   - *Usage*: Used to locate all instances of \"city\" or patterns like \"B*ng\" (Bangalore variations) for further selection or replacement.\n",
        "\n",
        "5. *Alt + Enter*  \n",
        "   - *Purpose*: Selects all matches of the current search term in the Find dialog.  \n",
        "   - *Usage*: Selected every occurrence of \"city\" or Bangalore variations (e.g., \"B*ng\") at once, enabling bulk editing.\n",
        "\n",
        "6. *Ctrl + Shift + Right Arrow*  \n",
        "   - *Purpose*: Selects the next word to the right from the cursor.  \n",
        "   - *Usage*: Selected the word \"Bangalore\" (or its misspelled variants) after aligning cursors with Alt + Enter, allowing uniform replacement.\n",
        "\n",
        "Additional commands accessed via the Command Palette (Ctrl + Shift + P):\n",
        "- *Format Document*: Prettifies the JSON file for readability (no direct shortcut, but triggered via palette).\n",
        "- *Sort Lines Ascending*: Sorts selected lines alphabetically (used to order city names).\n",
        "- *Delete Duplicate Lines*: Removes duplicate entries (used to reduce sorted cities to unique values, e.g., 150 unique cities).\n",
        "\n",
        "### Workflow Summary with Shortcuts:\n",
        "- *Formatting*: Ctrl + Shift + P → \"Format Document\" prettified the JSON.\n",
        "- *Multi-Selection*: Ctrl + D selected multiple \"city\" instances; Alt + Enter (after Ctrl + F) selected all matches.\n",
        "- *Range Extension*: Shift + End or Shift + Arrow Keys extended selections to full lines.\n",
        "- *Extraction*: Ctrl + F → Alt + Enter → Shift + End → Copy/Paste extracted all \"city\" or \"product\" values.\n",
        "- *Data Cleansing*: Ctrl + Shift + P → \"Sort Lines Ascending\" sorted cities; \"Delete Duplicate Lines\" removed duplicates. Ctrl + F → Alt + Enter → Shift + End → Type \"Bangalore\" replaced misspelled variants (e.g., \"B*ng\") with \"Bangalore\".\n",
        "\n",
        "This approach cleansed a dataset of 2462 city entries, reducing Bangalore variations to a single correct spelling, showcasing VS Code’s multi-cursor and command palette features for efficient data processing without external tools.\n",
        "\n"
      ],
      "metadata": {
        "id": "-royA88anIHo"
      }
    },
    {
      "cell_type": "code",
      "source": [],
      "metadata": {
        "id": "45YWleJLmPDX"
      },
      "execution_count": null,
      "outputs": []
    },
    {
      "cell_type": "code",
      "source": [],
      "metadata": {
        "id": "iWYzxgrDmNCP"
      },
      "execution_count": null,
      "outputs": []
    }
  ]
}